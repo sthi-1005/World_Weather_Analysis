{
 "cells": [
  {
   "cell_type": "markdown",
   "metadata": {},
   "source": [
    "## Deliverable 3. Create a Travel Itinerary Map."
   ]
  },
  {
   "cell_type": "code",
   "execution_count": 1,
   "metadata": {},
   "outputs": [],
   "source": [
    "# Dependencies and Setup\n",
    "import pandas as pd\n",
    "import requests\n",
    "import gmaps\n",
    "import csv\n",
    "import numpy as np\n",
    "\n",
    "# Import API key\n",
    "import sys\n",
    "sys.path.insert(1,'..')\n",
    "from config import g_key\n",
    "\n",
    "# Configure gmaps API key\n",
    "gmaps.configure(api_key=g_key)"
   ]
  },
  {
   "cell_type": "code",
   "execution_count": 2,
   "metadata": {},
   "outputs": [
    {
     "output_type": "execute_result",
     "data": {
      "text/plain": [
       "   City_ID            City Country  Max Temp Current Description      Lat  \\\n",
       "0        2  Port Macquarie      AU     50.90           clear sky -31.4333   \n",
       "1        3      Dera Bugti      PK     87.87           clear sky  29.0307   \n",
       "2        4      Port Hardy      CA     55.58       broken clouds  50.6996   \n",
       "3        5        Thompson      CA     60.96     overcast clouds  55.7435   \n",
       "4        6      Nikolskoye      RU     60.69       broken clouds  59.7035   \n",
       "\n",
       "        Lng               Hotel Name  \n",
       "0  152.9167    Rydges Port Macquarie  \n",
       "1   69.1510        Nawab Bugti House  \n",
       "2 -127.4199              Airport Inn  \n",
       "3  -97.8558          Burntwood Hotel  \n",
       "4   30.7861  Tourist House - Sablino  "
      ],
      "text/html": "<div>\n<style scoped>\n    .dataframe tbody tr th:only-of-type {\n        vertical-align: middle;\n    }\n\n    .dataframe tbody tr th {\n        vertical-align: top;\n    }\n\n    .dataframe thead th {\n        text-align: right;\n    }\n</style>\n<table border=\"1\" class=\"dataframe\">\n  <thead>\n    <tr style=\"text-align: right;\">\n      <th></th>\n      <th>City_ID</th>\n      <th>City</th>\n      <th>Country</th>\n      <th>Max Temp</th>\n      <th>Current Description</th>\n      <th>Lat</th>\n      <th>Lng</th>\n      <th>Hotel Name</th>\n    </tr>\n  </thead>\n  <tbody>\n    <tr>\n      <th>0</th>\n      <td>2</td>\n      <td>Port Macquarie</td>\n      <td>AU</td>\n      <td>50.90</td>\n      <td>clear sky</td>\n      <td>-31.4333</td>\n      <td>152.9167</td>\n      <td>Rydges Port Macquarie</td>\n    </tr>\n    <tr>\n      <th>1</th>\n      <td>3</td>\n      <td>Dera Bugti</td>\n      <td>PK</td>\n      <td>87.87</td>\n      <td>clear sky</td>\n      <td>29.0307</td>\n      <td>69.1510</td>\n      <td>Nawab Bugti House</td>\n    </tr>\n    <tr>\n      <th>2</th>\n      <td>4</td>\n      <td>Port Hardy</td>\n      <td>CA</td>\n      <td>55.58</td>\n      <td>broken clouds</td>\n      <td>50.6996</td>\n      <td>-127.4199</td>\n      <td>Airport Inn</td>\n    </tr>\n    <tr>\n      <th>3</th>\n      <td>5</td>\n      <td>Thompson</td>\n      <td>CA</td>\n      <td>60.96</td>\n      <td>overcast clouds</td>\n      <td>55.7435</td>\n      <td>-97.8558</td>\n      <td>Burntwood Hotel</td>\n    </tr>\n    <tr>\n      <th>4</th>\n      <td>6</td>\n      <td>Nikolskoye</td>\n      <td>RU</td>\n      <td>60.69</td>\n      <td>broken clouds</td>\n      <td>59.7035</td>\n      <td>30.7861</td>\n      <td>Tourist House - Sablino</td>\n    </tr>\n  </tbody>\n</table>\n</div>"
     },
     "metadata": {},
     "execution_count": 2
    }
   ],
   "source": [
    "# 1. Read the WeatherPy_vacation.csv into a DataFrame.\n",
    "clean_hotel_df = pd.read_csv(\"../Vacation_Search/WeatherPy_vacation.csv\")\n",
    "clean_hotel_df.head()"
   ]
  },
  {
   "cell_type": "code",
   "execution_count": 3,
   "metadata": {},
   "outputs": [],
   "source": [
    "# 2. Using the template add the city name, the country code, the weather description and maximum temperature for the city.\n",
    "info_box_template = \"\"\"\n",
    "<dl>\n",
    "<dt>Hotel Name</dt><dd>{Hotel Name}</dd>\n",
    "<dt>City</dt><dd>{City}</dd>\n",
    "<dt>Country</dt><dd>{Country}</dd>\n",
    "<dt>Max Temp</dt><dd>{Max Temp} °F</dd>\n",
    "<dt>Current Weather</dt><dd>{Current Description}</dd>\n",
    "</dl>\n",
    "\"\"\"\n",
    "\n",
    "# 3a. Get the data from each row and add it to the formatting template and store the data in a list.\n",
    "hotel_info = [info_box_template.format(**row) for index, row in clean_hotel_df.iterrows()]\n",
    "\n",
    "# 3b. Get the latitude and longitude from each row and store in a new DataFrame.\n",
    "locations = clean_hotel_df[[\"Lat\", \"Lng\"]]"
   ]
  },
  {
   "cell_type": "code",
   "execution_count": 4,
   "metadata": {},
   "outputs": [
    {
     "output_type": "display_data",
     "data": {
      "text/plain": "Figure(layout=FigureLayout(height='420px'))",
      "application/vnd.jupyter.widget-view+json": {
       "version_major": 2,
       "version_minor": 0,
       "model_id": "69f64c6e588e4c44b6fd7ad4f9204a87"
      }
     },
     "metadata": {}
    }
   ],
   "source": [
    "# 4a. Add a marker layer for each city to the map.\n",
    "locations = clean_hotel_df[[\"Lat\", \"Lng\"]]\n",
    "max_temp = clean_hotel_df[\"Max Temp\"]\n",
    "fig = gmaps.figure(center=(30.0, 31.0), zoom_level=1.5)\n",
    "heat_layer = gmaps.heatmap_layer(locations, weights=max_temp,dissipating=False,\n",
    "             max_intensity=300, point_radius=4)\n",
    "marker_layer = gmaps.marker_layer(locations, info_box_content=hotel_info)\n",
    "fig.add_layer(heat_layer)\n",
    "fig.add_layer(marker_layer)\n",
    "\n",
    "# 4b. Display the figure\n",
    "\n",
    "fig"
   ]
  },
  {
   "cell_type": "code",
   "execution_count": 7,
   "metadata": {},
   "outputs": [],
   "source": [
    "vacation_df=clean_hotel_df"
   ]
  },
  {
   "cell_type": "code",
   "execution_count": 8,
   "metadata": {},
   "outputs": [],
   "source": [
    "# From the map above pick 4 cities and create a vacation itinerary route to travel between the four cities. \n",
    "vaca_cities=['Weiser','Portland','Fortuna','Pacifica']\n",
    "\n",
    "# 5. Create DataFrames for each city by filtering the 'vacation_df' using the loc method. \n",
    "# Hint: The starting and ending city should be the same city.\n",
    "\n",
    "vacation_start = vacation_df.loc[vacation_df[\"City\"]==vaca_cities[0]]\n",
    "vacation_end = vacation_df.loc[vacation_df[\"City\"]==vaca_cities[0]]\n",
    "vacation_stop1 = vacation_df.loc[vacation_df[\"City\"]==vaca_cities[1]]\n",
    "vacation_stop2 = vacation_df.loc[vacation_df[\"City\"]==vaca_cities[2]] \n",
    "vacation_stop3 = vacation_df.loc[vacation_df[\"City\"]==vaca_cities[3]] "
   ]
  },
  {
   "cell_type": "code",
   "execution_count": 9,
   "metadata": {},
   "outputs": [],
   "source": [
    "# 6. Get the latitude-longitude pairs as tuples from each city DataFrame using the to_numpy function and list indexing.\n",
    "\n",
    "start = (pd.DataFrame(vacation_start).to_numpy()[0][5],pd.DataFrame(vacation_start).to_numpy()[0][6])\n",
    "end = (pd.DataFrame(vacation_end).to_numpy()[0][5],pd.DataFrame(vacation_end).to_numpy()[0][6])\n",
    "stop1 = (pd.DataFrame(vacation_stop1).to_numpy()[0][5],pd.DataFrame(vacation_stop1).to_numpy()[0][6])\n",
    "stop2 = (pd.DataFrame(vacation_stop2).to_numpy()[0][5],pd.DataFrame(vacation_stop2).to_numpy()[0][6])\n",
    "stop3 = (pd.DataFrame(vacation_stop3).to_numpy()[0][5],pd.DataFrame(vacation_stop3).to_numpy()[0][6])\n",
    "\n"
   ]
  },
  {
   "cell_type": "code",
   "execution_count": 10,
   "metadata": {
    "scrolled": true
   },
   "outputs": [
    {
     "output_type": "display_data",
     "data": {
      "text/plain": "Figure(layout=FigureLayout(height='420px'))",
      "application/vnd.jupyter.widget-view+json": {
       "version_major": 2,
       "version_minor": 0,
       "model_id": "8d6d8906ba9f43dab19f45b065d0989e"
      }
     },
     "metadata": {}
    }
   ],
   "source": [
    "# 7. Create a direction layer map using the start and end latitude-longitude pairs,\n",
    "# and stop1, stop2, and stop3 as the waypoints. The travel_mode should be \"DRIVING\", \"BICYCLING\", or \"WALKING\".\n",
    "\n",
    "fig = gmaps.figure()\n",
    "\n",
    "start2end_via_stop1_stop2_stop3 = gmaps.directions_layer(start, end, waypoints = [stop1, stop2, stop3], show_markers=True,\n",
    "    stroke_color='blue', stroke_weight=3.0, stroke_opacity=1.0, travel_mode='DRIVING')\n",
    "fig.add_layer(start2end_via_stop1_stop2_stop3)\n",
    "fig"
   ]
  },
  {
   "cell_type": "code",
   "execution_count": 41,
   "metadata": {},
   "outputs": [
    {
     "output_type": "execute_result",
     "data": {
      "text/plain": [
       "   City_ID      City Country  Max Temp Current Description      Lat       Lng  \\\n",
       "0      285    Weiser      US     76.32     overcast clouds  44.2510 -116.9693   \n",
       "1      317  Portland      US     64.98     overcast clouds  45.5234 -122.6762   \n",
       "2      306   Fortuna      US     71.19          few clouds  40.5982 -124.1573   \n",
       "3      482  Pacifica      US     84.38                haze  37.6138 -122.4869   \n",
       "4      285    Weiser      US     76.32     overcast clouds  44.2510 -116.9693   \n",
       "\n",
       "                                          Hotel Name  \n",
       "0                                 The Colonial Motel  \n",
       "1         Embassy Suites by Hilton Portland Downtown  \n",
       "2                         Super 8 by Wyndham Fortuna  \n",
       "3  Pacifica Lighthouse, Trademark Collection by W...  \n",
       "4                                 The Colonial Motel  "
      ],
      "text/html": "<div>\n<style scoped>\n    .dataframe tbody tr th:only-of-type {\n        vertical-align: middle;\n    }\n\n    .dataframe tbody tr th {\n        vertical-align: top;\n    }\n\n    .dataframe thead th {\n        text-align: right;\n    }\n</style>\n<table border=\"1\" class=\"dataframe\">\n  <thead>\n    <tr style=\"text-align: right;\">\n      <th></th>\n      <th>City_ID</th>\n      <th>City</th>\n      <th>Country</th>\n      <th>Max Temp</th>\n      <th>Current Description</th>\n      <th>Lat</th>\n      <th>Lng</th>\n      <th>Hotel Name</th>\n    </tr>\n  </thead>\n  <tbody>\n    <tr>\n      <th>0</th>\n      <td>285</td>\n      <td>Weiser</td>\n      <td>US</td>\n      <td>76.32</td>\n      <td>overcast clouds</td>\n      <td>44.2510</td>\n      <td>-116.9693</td>\n      <td>The Colonial Motel</td>\n    </tr>\n    <tr>\n      <th>1</th>\n      <td>317</td>\n      <td>Portland</td>\n      <td>US</td>\n      <td>64.98</td>\n      <td>overcast clouds</td>\n      <td>45.5234</td>\n      <td>-122.6762</td>\n      <td>Embassy Suites by Hilton Portland Downtown</td>\n    </tr>\n    <tr>\n      <th>2</th>\n      <td>306</td>\n      <td>Fortuna</td>\n      <td>US</td>\n      <td>71.19</td>\n      <td>few clouds</td>\n      <td>40.5982</td>\n      <td>-124.1573</td>\n      <td>Super 8 by Wyndham Fortuna</td>\n    </tr>\n    <tr>\n      <th>3</th>\n      <td>482</td>\n      <td>Pacifica</td>\n      <td>US</td>\n      <td>84.38</td>\n      <td>haze</td>\n      <td>37.6138</td>\n      <td>-122.4869</td>\n      <td>Pacifica Lighthouse, Trademark Collection by W...</td>\n    </tr>\n    <tr>\n      <th>4</th>\n      <td>285</td>\n      <td>Weiser</td>\n      <td>US</td>\n      <td>76.32</td>\n      <td>overcast clouds</td>\n      <td>44.2510</td>\n      <td>-116.9693</td>\n      <td>The Colonial Motel</td>\n    </tr>\n  </tbody>\n</table>\n</div>"
     },
     "metadata": {},
     "execution_count": 41
    }
   ],
   "source": [
    "# 8. To create a marker layer map between the four cities.\n",
    "#  Combine the four city DataFrames into one DataFrame using the concat() function.\n",
    "itinerary_df = pd.concat([vacation_start, vacation_stop1, vacation_stop2, vacation_stop3, vacation_end],ignore_index=True)\n",
    "itinerary_df"
   ]
  },
  {
   "cell_type": "code",
   "execution_count": 44,
   "metadata": {},
   "outputs": [],
   "source": [
    "# 9. Using the template add city name, the country code, the weather description and maximum temperature for the city.\n",
    "info_box_template = \"\"\"\n",
    "<dl>\n",
    "<dt>Hotel Name</dt><dd>{Hotel Name}</dd>\n",
    "<dt>City</dt><dd>{City}</dd>\n",
    "<dt>Country</dt><dd>{Country}</dd>\n",
    "<dt>Max Temp</dt><dd>{Max Temp} °F</dd>\n",
    "<dt>Current Weather</dt><dd>{Current Description}</dd>\n",
    "</dl>\n",
    "\"\"\"\n",
    "\n",
    "# 10a. Get the data from each row and add it to the formatting template and store the data in a list.\n",
    "itinerary_info = [info_box_template.format(**row) for index, row in itinerary_df.iterrows()]\n",
    "\n",
    "# 10b. Get the latitude and longitude from each row and store in a new DataFrame.\n",
    "locations = itinerary_df[[\"Lat\", \"Lng\"]]"
   ]
  },
  {
   "cell_type": "code",
   "execution_count": 47,
   "metadata": {},
   "outputs": [
    {
     "output_type": "display_data",
     "data": {
      "text/plain": "Figure(layout=FigureLayout(height='420px'))",
      "application/vnd.jupyter.widget-view+json": {
       "version_major": 2,
       "version_minor": 0,
       "model_id": "7a2599711e9f49a6b81d3bdf0f713e5b"
      }
     },
     "metadata": {}
    }
   ],
   "source": [
    "# 11a. Add a marker layer for each city to the map. \n",
    "fig = gmaps.figure(center=(30.0, 31.0), zoom_level=1.5)\n",
    "\n",
    "marker_layer = gmaps.marker_layer(locations, info_box_content=itinerary_info)\n",
    "\n",
    "fig.add_layer(marker_layer)\n",
    "# 11b. Display the figure\n",
    "fig"
   ]
  }
 ],
 "metadata": {
  "kernelspec": {
   "name": "python385jvsc74a57bd0ca7f64627acee83618d750f45055d656a21cdf897762d86dfd25033698eb9c35",
   "display_name": "Python 3.8.5 64-bit ('base': conda)"
  },
  "language_info": {
   "codemirror_mode": {
    "name": "ipython",
    "version": 3
   },
   "file_extension": ".py",
   "mimetype": "text/x-python",
   "name": "python",
   "nbconvert_exporter": "python",
   "pygments_lexer": "ipython3",
   "version": "3.8.5"
  },
  "latex_envs": {
   "LaTeX_envs_menu_present": true,
   "autoclose": false,
   "autocomplete": true,
   "bibliofile": "biblio.bib",
   "cite_by": "apalike",
   "current_citInitial": 1,
   "eqLabelWithNumbers": true,
   "eqNumInitial": 1,
   "hotkeys": {
    "equation": "Ctrl-E",
    "itemize": "Ctrl-I"
   },
   "labels_anchors": false,
   "latex_user_defs": false,
   "report_style_numbering": false,
   "user_envs_cfg": false
  }
 },
 "nbformat": 4,
 "nbformat_minor": 2
}