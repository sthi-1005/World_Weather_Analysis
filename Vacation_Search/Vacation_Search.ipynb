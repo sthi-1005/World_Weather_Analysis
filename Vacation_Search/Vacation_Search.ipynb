{
 "cells": [
  {
   "cell_type": "markdown",
   "metadata": {},
   "source": [
    "## Deliverable 2. Create a Customer Travel Destinations Map."
   ]
  },
  {
   "cell_type": "code",
   "execution_count": 41,
   "metadata": {},
   "outputs": [],
   "source": [
    "# Dependencies and Setup\n",
    "import pandas as pd\n",
    "import requests\n",
    "import gmaps\n",
    "import csv\n",
    "import numpy as np\n",
    "\n",
    "# Import API key\n",
    "import sys\n",
    "sys.path.insert(1,'..')\n",
    "from config import g_key\n",
    "\n",
    "# Configure gmaps API key\n",
    "gmaps.configure(api_key=g_key)"
   ]
  },
  {
   "cell_type": "code",
   "execution_count": 42,
   "metadata": {},
   "outputs": [
    {
     "output_type": "execute_result",
     "data": {
      "text/plain": [
       "   City ID            City      Lat       Lng  Max Temp  Humidity  Cloudiness  \\\n",
       "0        0       Saskylakh  71.9167  114.0833     39.24        56          77   \n",
       "1        1         Mataura -46.1927  168.8643     49.48        77          59   \n",
       "2        2  Port Macquarie -31.4333  152.9167     50.90        60           5   \n",
       "3        3      Dera Bugti  29.0307   69.1510     87.87        47           0   \n",
       "4        4      Port Hardy  50.6996 -127.4199     55.58        71          75   \n",
       "\n",
       "   Wind Speed Country Current Description                 Date  \n",
       "0        4.59      RU       broken clouds  2021-06-06 22:35:33  \n",
       "1        3.38      NZ       broken clouds  2021-06-06 22:34:15  \n",
       "2        4.45      AU           clear sky  2021-06-06 22:31:26  \n",
       "3        5.08      PK           clear sky  2021-06-06 22:35:34  \n",
       "4       14.97      CA       broken clouds  2021-06-06 22:34:21  "
      ],
      "text/html": "<div>\n<style scoped>\n    .dataframe tbody tr th:only-of-type {\n        vertical-align: middle;\n    }\n\n    .dataframe tbody tr th {\n        vertical-align: top;\n    }\n\n    .dataframe thead th {\n        text-align: right;\n    }\n</style>\n<table border=\"1\" class=\"dataframe\">\n  <thead>\n    <tr style=\"text-align: right;\">\n      <th></th>\n      <th>City ID</th>\n      <th>City</th>\n      <th>Lat</th>\n      <th>Lng</th>\n      <th>Max Temp</th>\n      <th>Humidity</th>\n      <th>Cloudiness</th>\n      <th>Wind Speed</th>\n      <th>Country</th>\n      <th>Current Description</th>\n      <th>Date</th>\n    </tr>\n  </thead>\n  <tbody>\n    <tr>\n      <th>0</th>\n      <td>0</td>\n      <td>Saskylakh</td>\n      <td>71.9167</td>\n      <td>114.0833</td>\n      <td>39.24</td>\n      <td>56</td>\n      <td>77</td>\n      <td>4.59</td>\n      <td>RU</td>\n      <td>broken clouds</td>\n      <td>2021-06-06 22:35:33</td>\n    </tr>\n    <tr>\n      <th>1</th>\n      <td>1</td>\n      <td>Mataura</td>\n      <td>-46.1927</td>\n      <td>168.8643</td>\n      <td>49.48</td>\n      <td>77</td>\n      <td>59</td>\n      <td>3.38</td>\n      <td>NZ</td>\n      <td>broken clouds</td>\n      <td>2021-06-06 22:34:15</td>\n    </tr>\n    <tr>\n      <th>2</th>\n      <td>2</td>\n      <td>Port Macquarie</td>\n      <td>-31.4333</td>\n      <td>152.9167</td>\n      <td>50.90</td>\n      <td>60</td>\n      <td>5</td>\n      <td>4.45</td>\n      <td>AU</td>\n      <td>clear sky</td>\n      <td>2021-06-06 22:31:26</td>\n    </tr>\n    <tr>\n      <th>3</th>\n      <td>3</td>\n      <td>Dera Bugti</td>\n      <td>29.0307</td>\n      <td>69.1510</td>\n      <td>87.87</td>\n      <td>47</td>\n      <td>0</td>\n      <td>5.08</td>\n      <td>PK</td>\n      <td>clear sky</td>\n      <td>2021-06-06 22:35:34</td>\n    </tr>\n    <tr>\n      <th>4</th>\n      <td>4</td>\n      <td>Port Hardy</td>\n      <td>50.6996</td>\n      <td>-127.4199</td>\n      <td>55.58</td>\n      <td>71</td>\n      <td>75</td>\n      <td>14.97</td>\n      <td>CA</td>\n      <td>broken clouds</td>\n      <td>2021-06-06 22:34:21</td>\n    </tr>\n  </tbody>\n</table>\n</div>"
     },
     "metadata": {},
     "execution_count": 42
    }
   ],
   "source": [
    "# 1. Import the WeatherPy_database.csv file. \n",
    "city_data_df = pd.read_csv(\"../Weather_Database/WeatherPy_database.csv\")\n",
    "city_data_df.head()"
   ]
  },
  {
   "cell_type": "code",
   "execution_count": 43,
   "metadata": {},
   "outputs": [
    {
     "output_type": "stream",
     "name": "stdout",
     "text": [
      "What is your preference for the minimum temperature(°F)?\n",
      "What is your preference for the maximum temperature(°F)?\n",
      "User's Preferred Temperatures: 60.0°F to 70.0°F\n"
     ]
    }
   ],
   "source": [
    "# 2. Prompt the user to enter minimum and maximum temperature criteria \n",
    "print(\"What is your preference for the minimum temperature(°F)?\")\n",
    "min_temp=float(input(\"min_temp: \"))\n",
    "\n",
    "print(\"What is your preference for the maximum temperature(°F)?\")\n",
    "max_temp=float(input(\"max_temp: \"))\n",
    "\n",
    "\n",
    "print(f\"User's Preferred Temperatures: {min_temp}°F to {max_temp}°F\")"
   ]
  },
  {
   "cell_type": "code",
   "execution_count": 44,
   "metadata": {},
   "outputs": [],
   "source": [
    "# 3. Filter the city_data_df DataFrame using the input statements to create a new DataFrame using the loc method.\n",
    "\n",
    "pref_cities = city_data_df.loc[(city_data_df[\"Max Temp\"] >= min_temp) & (city_data_df[\"Max Temp\"]<=max_temp)]"
   ]
  },
  {
   "cell_type": "code",
   "execution_count": 45,
   "metadata": {},
   "outputs": [
    {
     "output_type": "execute_result",
     "data": {
      "text/plain": [
       "City ID                127\n",
       "City                   127\n",
       "Lat                    127\n",
       "Lng                    127\n",
       "Max Temp               127\n",
       "Humidity               127\n",
       "Cloudiness             127\n",
       "Wind Speed             127\n",
       "Country                125\n",
       "Current Description    127\n",
       "Date                   127\n",
       "dtype: int64"
      ]
     },
     "metadata": {},
     "execution_count": 45
    }
   ],
   "source": [
    "# 4a. Determine if there are any empty rows.\n",
    "pref_cities.count()"
   ]
  },
  {
   "cell_type": "code",
   "execution_count": 46,
   "metadata": {},
   "outputs": [
    {
     "output_type": "execute_result",
     "data": {
      "text/plain": [
       "City ID                125\n",
       "City                   125\n",
       "Lat                    125\n",
       "Lng                    125\n",
       "Max Temp               125\n",
       "Humidity               125\n",
       "Cloudiness             125\n",
       "Wind Speed             125\n",
       "Country                125\n",
       "Current Description    125\n",
       "Date                   125\n",
       "dtype: int64"
      ]
     },
     "metadata": {},
     "execution_count": 46
    }
   ],
   "source": [
    "# 4b. Drop any empty rows and create a new DataFrame that doesn’t have empty rows.\n",
    "pref_cities=pref_cities.dropna()\n",
    "pref_cities.count()\n"
   ]
  },
  {
   "cell_type": "code",
   "execution_count": 47,
   "metadata": {},
   "outputs": [
    {
     "output_type": "execute_result",
     "data": {
      "text/plain": [
       "           City Country  Max Temp Current Description      Lat       Lng  \\\n",
       "5      Thompson      CA     60.96     overcast clouds  55.7435  -97.8558   \n",
       "6    Nikolskoye      RU     60.69       broken clouds  59.7035   30.7861   \n",
       "15  San Quintin      MX     65.57          few clouds  30.4833 -115.9500   \n",
       "23        Lagoa      PT     63.82     overcast clouds  39.0500  -27.9833   \n",
       "29       Mackay      AU     66.04     overcast clouds -21.1500  149.2000   \n",
       "31        Polis      CY     66.02           clear sky  35.0367   32.4264   \n",
       "33       Cheran      MX     64.80     overcast clouds  19.6833 -101.9500   \n",
       "39    Byron Bay      AU     63.05          few clouds -28.6500  153.6167   \n",
       "40       Castro      BR     60.35     overcast clouds -24.7911  -50.0119   \n",
       "45       Berlin      DE     68.07           clear sky  52.5244   13.4105   \n",
       "\n",
       "   Hotel Name  \n",
       "5              \n",
       "6              \n",
       "15             \n",
       "23             \n",
       "29             \n",
       "31             \n",
       "33             \n",
       "39             \n",
       "40             \n",
       "45             "
      ],
      "text/html": "<div>\n<style scoped>\n    .dataframe tbody tr th:only-of-type {\n        vertical-align: middle;\n    }\n\n    .dataframe tbody tr th {\n        vertical-align: top;\n    }\n\n    .dataframe thead th {\n        text-align: right;\n    }\n</style>\n<table border=\"1\" class=\"dataframe\">\n  <thead>\n    <tr style=\"text-align: right;\">\n      <th></th>\n      <th>City</th>\n      <th>Country</th>\n      <th>Max Temp</th>\n      <th>Current Description</th>\n      <th>Lat</th>\n      <th>Lng</th>\n      <th>Hotel Name</th>\n    </tr>\n  </thead>\n  <tbody>\n    <tr>\n      <th>5</th>\n      <td>Thompson</td>\n      <td>CA</td>\n      <td>60.96</td>\n      <td>overcast clouds</td>\n      <td>55.7435</td>\n      <td>-97.8558</td>\n      <td></td>\n    </tr>\n    <tr>\n      <th>6</th>\n      <td>Nikolskoye</td>\n      <td>RU</td>\n      <td>60.69</td>\n      <td>broken clouds</td>\n      <td>59.7035</td>\n      <td>30.7861</td>\n      <td></td>\n    </tr>\n    <tr>\n      <th>15</th>\n      <td>San Quintin</td>\n      <td>MX</td>\n      <td>65.57</td>\n      <td>few clouds</td>\n      <td>30.4833</td>\n      <td>-115.9500</td>\n      <td></td>\n    </tr>\n    <tr>\n      <th>23</th>\n      <td>Lagoa</td>\n      <td>PT</td>\n      <td>63.82</td>\n      <td>overcast clouds</td>\n      <td>39.0500</td>\n      <td>-27.9833</td>\n      <td></td>\n    </tr>\n    <tr>\n      <th>29</th>\n      <td>Mackay</td>\n      <td>AU</td>\n      <td>66.04</td>\n      <td>overcast clouds</td>\n      <td>-21.1500</td>\n      <td>149.2000</td>\n      <td></td>\n    </tr>\n    <tr>\n      <th>31</th>\n      <td>Polis</td>\n      <td>CY</td>\n      <td>66.02</td>\n      <td>clear sky</td>\n      <td>35.0367</td>\n      <td>32.4264</td>\n      <td></td>\n    </tr>\n    <tr>\n      <th>33</th>\n      <td>Cheran</td>\n      <td>MX</td>\n      <td>64.80</td>\n      <td>overcast clouds</td>\n      <td>19.6833</td>\n      <td>-101.9500</td>\n      <td></td>\n    </tr>\n    <tr>\n      <th>39</th>\n      <td>Byron Bay</td>\n      <td>AU</td>\n      <td>63.05</td>\n      <td>few clouds</td>\n      <td>-28.6500</td>\n      <td>153.6167</td>\n      <td></td>\n    </tr>\n    <tr>\n      <th>40</th>\n      <td>Castro</td>\n      <td>BR</td>\n      <td>60.35</td>\n      <td>overcast clouds</td>\n      <td>-24.7911</td>\n      <td>-50.0119</td>\n      <td></td>\n    </tr>\n    <tr>\n      <th>45</th>\n      <td>Berlin</td>\n      <td>DE</td>\n      <td>68.07</td>\n      <td>clear sky</td>\n      <td>52.5244</td>\n      <td>13.4105</td>\n      <td></td>\n    </tr>\n  </tbody>\n</table>\n</div>"
     },
     "metadata": {},
     "execution_count": 47
    }
   ],
   "source": [
    "# 5a. Create DataFrame called hotel_df to store hotel names along with city, country, max temp, and coordinates.\n",
    "hotel_df = pref_cities[[\"City\", \"Country\", \"Max Temp\",\"Current Description\", \"Lat\", \"Lng\"]].copy()\n",
    "\n",
    "# 5b. Create a new column \"Hotel Name\"\n",
    "hotel_df[\"Hotel Name\"] = \"\"\n",
    "hotel_df.head(10)"
   ]
  },
  {
   "cell_type": "code",
   "execution_count": 48,
   "metadata": {},
   "outputs": [
    {
     "output_type": "stream",
     "name": "stdout",
     "text": [
      "Hotel not found... skipping.\n",
      "Hotel not found... skipping.\n",
      "Hotel not found... skipping.\n",
      "Hotel not found... skipping.\n",
      "Hotel not found... skipping.\n",
      "Hotel not found... skipping.\n",
      "Hotel not found... skipping.\n",
      "Hotel not found... skipping.\n",
      "Hotel not found... skipping.\n"
     ]
    }
   ],
   "source": [
    "# 6a. Set parameters to search for hotels with 5000 meters.\n",
    "params = {\n",
    "    \"radius\": 5000,\n",
    "    \"type\": \"lodging\",\n",
    "    \"key\": g_key\n",
    "}\n",
    "\n",
    "# 6b. Iterate through the hotel DataFrame.\n",
    "for index, row in hotel_df.iterrows():\n",
    "    # 6c. Get latitude and longitude from DataFrame\n",
    "    lat = row[\"Lat\"]\n",
    "    lng = row[\"Lng\"]\n",
    "    \n",
    "    # 6d. Set up the base URL for the Google Directions API to get JSON data.\n",
    "    base_url = \"https://maps.googleapis.com/maps/api/place/nearbysearch/json\"\n",
    "\n",
    "    # 6e. Make request and retrieve the JSON data from the search. \n",
    "    params[\"location\"] = f\"{lat},{lng}\"\n",
    "    \n",
    "    hotels = requests.get(base_url, params=params).json()\n",
    "\n",
    "    # 6f. Get the first hotel from the results and store the name, if a hotel isn't found skip the city.\n",
    "    try:\n",
    "        hotel_df.loc[index, \"Hotel Name\"] = hotels[\"results\"][0][\"name\"]\n",
    "    except (IndexError):\n",
    "        print(\"Hotel not found... skipping.\")\n",
    "        "
   ]
  },
  {
   "cell_type": "code",
   "execution_count": null,
   "metadata": {},
   "outputs": [],
   "source": [
    "# 7. Drop the rows where there is no Hotel Name.\n",
    "clean_hotel_df=hotel_df[hotel_df['Hotel Name']!=\"\"]\n",
    "clean_hotel_df"
   ]
  },
  {
   "cell_type": "code",
   "execution_count": 25,
   "metadata": {},
   "outputs": [],
   "source": [
    "# 8a. Create the output File (CSV)\n",
    "output_data_file = \"../Vacation_Search/WeatherPy_vacation.csv\"\n",
    "# 8b. Export the City_Data into a csv\n",
    "clean_hotel_df.to_csv(output_data_file, index_label=\"City_ID\")"
   ]
  },
  {
   "cell_type": "code",
   "execution_count": 51,
   "metadata": {},
   "outputs": [],
   "source": [
    "# 9. Using the template add city name, the country code, the weather description and maximum temperature for the city.\n",
    "info_box_template = \"\"\"\n",
    "<dl>\n",
    "<dt>Hotel Name</dt><dd>{Hotel Name}</dd>\n",
    "<dt>City</dt><dd>{City}</dd>\n",
    "<dt>Country</dt><dd>{Country}</dd>\n",
    "<dt>Max Temp</dt><dd>{Max Temp} °F</dd>\n",
    "<dt>Current Weather</dt><dd>{Current Description}</dd>\n",
    "</dl>\n",
    "\"\"\"\n",
    "\n",
    "# 10a. Get the data from each row and add it to the formatting template and store the data in a list.\n",
    "hotel_info = [info_box_template.format(**row) for index, row in clean_hotel_df.iterrows()]\n",
    "\n",
    "# 10b. Get the latitude and longitude from each row and store in a new DataFrame.\n",
    "locations = clean_hotel_df[[\"Lat\", \"Lng\"]]"
   ]
  },
  {
   "cell_type": "code",
   "execution_count": 52,
   "metadata": {},
   "outputs": [
    {
     "output_type": "display_data",
     "data": {
      "text/plain": "Figure(layout=FigureLayout(height='420px'))",
      "application/vnd.jupyter.widget-view+json": {
       "version_major": 2,
       "version_minor": 0,
       "model_id": "2d831d653e0c4df1bae02b8a2c12148a"
      }
     },
     "metadata": {}
    }
   ],
   "source": [
    "# 11a. Add a marker layer for each city to the map. \n",
    "locations = clean_hotel_df[[\"Lat\", \"Lng\"]]\n",
    "max_temp = clean_hotel_df[\"Max Temp\"]\n",
    "fig = gmaps.figure(center=(30.0, 31.0), zoom_level=1.5)\n",
    "heat_layer = gmaps.heatmap_layer(locations, weights=max_temp,dissipating=False,\n",
    "             max_intensity=300, point_radius=4)\n",
    "marker_layer = gmaps.marker_layer(locations, info_box_content=hotel_info)\n",
    "fig.add_layer(heat_layer)\n",
    "fig.add_layer(marker_layer)\n",
    "# 11b. Display the figure\n",
    "fig"
   ]
  },
  {
   "cell_type": "code",
   "execution_count": null,
   "metadata": {},
   "outputs": [],
   "source": []
  }
 ],
 "metadata": {
  "kernelspec": {
   "name": "pythondata",
   "display_name": "Python 3.8.5 64-bit ('base': conda)"
  },
  "language_info": {
   "codemirror_mode": {
    "name": "ipython",
    "version": 3
   },
   "file_extension": ".py",
   "mimetype": "text/x-python",
   "name": "python",
   "nbconvert_exporter": "python",
   "pygments_lexer": "ipython3",
   "version": "3.8.5"
  },
  "latex_envs": {
   "LaTeX_envs_menu_present": true,
   "autoclose": false,
   "autocomplete": true,
   "bibliofile": "biblio.bib",
   "cite_by": "apalike",
   "current_citInitial": 1,
   "eqLabelWithNumbers": true,
   "eqNumInitial": 1,
   "hotkeys": {
    "equation": "Ctrl-E",
    "itemize": "Ctrl-I"
   },
   "labels_anchors": false,
   "latex_user_defs": false,
   "report_style_numbering": false,
   "user_envs_cfg": false
  }
 },
 "nbformat": 4,
 "nbformat_minor": 2
}